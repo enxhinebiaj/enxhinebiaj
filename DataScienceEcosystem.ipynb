{
  "metadata": {
    "kernelspec": {
      "name": "python",
      "display_name": "Python (Pyodide)",
      "language": "python"
    },
    "language_info": {
      "codemirror_mode": {
        "name": "python",
        "version": 3
      },
      "file_extension": ".py",
      "mimetype": "text/x-python",
      "name": "python",
      "nbconvert_exporter": "python",
      "pygments_lexer": "ipython3",
      "version": "3.8"
    }
  },
  "nbformat_minor": 5,
  "nbformat": 4,
  "cells": [
    {
      "id": "9d089157-5aaa-4b10-951a-69095fb90888",
      "cell_type": "markdown",
      "source": "# Data Science Tools and Ecosystem",
      "metadata": {}
    },
    {
      "id": "b3e7a2b2-07b4-48f0-83da-a269b9dcca2f",
      "cell_type": "code",
      "source": "print ('In this notebook, Data Science Tools and Ecosystem are summarized')",
      "metadata": {
        "trusted": true
      },
      "outputs": [
        {
          "name": "stdout",
          "output_type": "stream",
          "text": "In this notebook, Data Science Tools and Ecosystem are summarized\n"
        }
      ],
      "execution_count": 52
    },
    {
      "id": "78b8ba38-24d2-4ff8-b36d-1c96f0590e7f",
      "cell_type": "markdown",
      "source": "**Objectives**",
      "metadata": {}
    },
    {
      "id": "9131bc93-77c0-480b-af07-ab6d7f95ad1a",
      "cell_type": "code",
      "source": "print ('- List popular languages for Data Science')\nprint ('- List commonly used libraries used by data scientists')\nprint ('- Create tables')\nprint ('- Calculate')\nprint ('- Write in Headings')",
      "metadata": {
        "trusted": true
      },
      "outputs": [
        {
          "name": "stdout",
          "output_type": "stream",
          "text": "- List popular languages for Data Science\n- List commonly used libraries used by data scientists\n- Create tables\n- Calculate\n- Write in Headings\n"
        }
      ],
      "execution_count": 56
    },
    {
      "id": "3d9b5418-739c-45d1-9182-47b21b859ee9",
      "cell_type": "code",
      "source": "print ('Some of the popular languages that Data Scientists use are:')\nprint ('1. SQL')\nprint ('2. Python')\nprint ('3. R')",
      "metadata": {
        "trusted": true
      },
      "outputs": [
        {
          "name": "stdout",
          "output_type": "stream",
          "text": "Some of the popular languages that Data Scientists use are:\n1. SQL\n2. Python\n3. R\n"
        }
      ],
      "execution_count": 12
    },
    {
      "id": "9b152f94-66ff-4158-b932-baab32f420c5",
      "cell_type": "code",
      "source": "print ('Some of the commonly used libraries used by Data Scientists include:')\nprint ('1. NumPy')\nprint ('2. Pandas')\nprint ('3. Seaborn')",
      "metadata": {
        "trusted": true
      },
      "outputs": [
        {
          "name": "stdout",
          "output_type": "stream",
          "text": "Some of the commonly used libraries used by Data Scientists include:\n1. NumPy\n2. Pandas\n3. Seaborn\n"
        }
      ],
      "execution_count": 13
    },
    {
      "id": "565cbdc6-14e4-4bdc-aebe-1c6600146fd6",
      "cell_type": "code",
      "source": "print ('| Data Science Tools |')\nprint ('| Jupyter Notebook |')\nprint ('| RStudio |')\nprint ('| Apache Spark |')",
      "metadata": {
        "trusted": true
      },
      "outputs": [
        {
          "name": "stdout",
          "output_type": "stream",
          "text": "| Data Science Tools |\n| Jupyter Notebook |\n| RStudio |\n| Apache Spark |\n"
        }
      ],
      "execution_count": 14
    },
    {
      "id": "311f7c7f-11ab-4108-99ce-9856e587a6a4",
      "cell_type": "code",
      "source": "print ('This a simple arithmetic expression to mutiply then add integers')",
      "metadata": {
        "trusted": true
      },
      "outputs": [
        {
          "name": "stdout",
          "output_type": "stream",
          "text": "This a simple arithmetic expression to mutiply then add integers\n"
        }
      ],
      "execution_count": 29
    },
    {
      "id": "77e82e35-551e-478c-8045-6b4408671729",
      "cell_type": "code",
      "source": "(3*4)+5",
      "metadata": {
        "trusted": true
      },
      "outputs": [
        {
          "execution_count": 38,
          "output_type": "execute_result",
          "data": {
            "text/plain": "17"
          },
          "metadata": {}
        }
      ],
      "execution_count": 38
    },
    {
      "id": "195fc510-e6ca-4a8d-8875-6952d3f3dff1",
      "cell_type": "markdown",
      "source": "### Below are a few examples of evaluating arithmetic expressions in Python",
      "metadata": {}
    },
    {
      "id": "3b3a1267-a670-4d54-a0b0-957c884df1ff",
      "cell_type": "code",
      "source": "print (' This will convert 200 minutes to hours by diving by 60')",
      "metadata": {
        "trusted": true
      },
      "outputs": [
        {
          "name": "stdout",
          "output_type": "stream",
          "text": " This will convert 200 minutes to hours by diving by 60\n"
        }
      ],
      "execution_count": 50
    },
    {
      "id": "73f34504-54f9-4c84-9427-34358b4e1c29",
      "cell_type": "code",
      "source": "200/60",
      "metadata": {
        "trusted": true
      },
      "outputs": [
        {
          "execution_count": 51,
          "output_type": "execute_result",
          "data": {
            "text/plain": "3.3333333333333335"
          },
          "metadata": {}
        }
      ],
      "execution_count": 51
    },
    {
      "id": "dc7ea2a6-0db4-4702-bb55-f59540cabea8",
      "cell_type": "markdown",
      "source": "## Author",
      "metadata": {}
    },
    {
      "id": "7b52008c-0750-47ac-85b1-b5069a1a42ae",
      "cell_type": "code",
      "source": "print ('Enxhi Nebiaj')",
      "metadata": {
        "trusted": true
      },
      "outputs": [
        {
          "name": "stdout",
          "output_type": "stream",
          "text": "Enxhi Nebiaj\n"
        }
      ],
      "execution_count": 57
    },
    {
      "id": "9f5c0158-701a-4820-af12-b3f30ee52552",
      "cell_type": "code",
      "source": "",
      "metadata": {
        "trusted": true
      },
      "outputs": [],
      "execution_count": null
    }
  ]
}